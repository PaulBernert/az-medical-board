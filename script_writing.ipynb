{
 "cells": [
  {
   "cell_type": "markdown",
   "metadata": {},
   "source": [
    "# Initialize modules / libraries"
   ]
  },
  {
   "cell_type": "code",
   "execution_count": 2,
   "metadata": {},
   "outputs": [],
   "source": [
    "from selenium import webdriver\n",
    "from selenium.webdriver.common.by import By\n",
    "from selenium.webdriver.support.ui import Select\n",
    "import time\n",
    "import pandas as pd"
   ]
  },
  {
   "cell_type": "markdown",
   "metadata": {},
   "source": [
    "## Step One: Go to site and select appropriate field of research"
   ]
  },
  {
   "cell_type": "code",
   "execution_count": 4,
   "metadata": {},
   "outputs": [],
   "source": [
    "driver = webdriver.Firefox()"
   ]
  },
  {
   "cell_type": "code",
   "execution_count": 5,
   "metadata": {},
   "outputs": [],
   "source": [
    "initial_site = \"https://www.azmd.gov/DoctorSearch/DoctorSearch\"\n",
    "driver.get(initial_site)"
   ]
  },
  {
   "cell_type": "code",
   "execution_count": 6,
   "metadata": {},
   "outputs": [],
   "source": [
    "def search_parameter():\n",
    "    driver.switch_to.frame(driver.find_element_by_id(\"Iframe1\"))\n",
    "    select = Select(driver.find_element_by_id('PrimaryField'))\n",
    "    select.select_by_visible_text('Dermatopathology (Dermatology)')\n",
    "    driver.find_element_by_id('btnSpecial').click()"
   ]
  },
  {
   "cell_type": "code",
   "execution_count": 7,
   "metadata": {},
   "outputs": [],
   "source": [
    "search_parameter()"
   ]
  },
  {
   "cell_type": "code",
   "execution_count": 8,
   "metadata": {},
   "outputs": [],
   "source": [
    "time.sleep(5)"
   ]
  },
  {
   "cell_type": "markdown",
   "metadata": {},
   "source": [
    "## Step Two: Collect all hrefs and names (entID, licID and licType)"
   ]
  },
  {
   "cell_type": "code",
   "execution_count": 10,
   "metadata": {},
   "outputs": [],
   "source": [
    "def scrape():\n",
    "    name_path = ['/html/body/div/div[2]/form/div[3]/table/tbody/tr[2]/td/table/tbody/tr['+str(i)+']/td[2]' for i in range(1,31)]\n",
    "    link_path = ['/html/body/div/div[2]/form/div[3]/table/tbody/tr[2]/td/table/tbody/tr['+str(i)+']/td[1]/a' for i in range(1,31)]\n",
    "    \n",
    "    for i in range(len(link_path)):\n",
    "        print(driver.find_element_by_xpath(link_path[i]).get_attribute('href'))\n",
    "        print(driver.find_element_by_xpath(name_path[i]).text)"
   ]
  },
  {
   "cell_type": "code",
   "execution_count": 11,
   "metadata": {},
   "outputs": [
    {
     "name": "stdout",
     "output_type": "stream",
     "text": [
      "https://gls.azmd.gov/glsuiteweb/clients/azbom/Public/Profile.aspx?entID=1641473&licID=446491&licType=1\n",
      "Abrishami, Payam\n",
      "https://gls.azmd.gov/glsuiteweb/clients/azbom/Public/Profile.aspx?entID=1626461&licID=437353&licType=1\n",
      "Ahmed, Iftikhar\n",
      "https://gls.azmd.gov/glsuiteweb/clients/azbom/Public/Profile.aspx?entID=1627494&licID=431722&licType=1\n",
      "Alder, Steven L.\n",
      "https://gls.azmd.gov/glsuiteweb/clients/azbom/Public/Profile.aspx?entID=1635998&licID=134819&licType=1\n",
      "Baldassano, Marisa F.\n",
      "https://gls.azmd.gov/glsuiteweb/clients/azbom/Public/Profile.aspx?entID=1614915&licID=348921&licType=1\n",
      "Bangert, Jerry L.\n",
      "https://gls.azmd.gov/glsuiteweb/clients/azbom/Public/Profile.aspx?entID=1719815&licID=423526&licType=1\n",
      "Bangert, Scott David\n",
      "https://gls.azmd.gov/glsuiteweb/clients/azbom/Public/Profile.aspx?entID=1769082&licID=435278&licType=1\n",
      "Beckum, Kathleen Martin\n",
      "https://gls.azmd.gov/glsuiteweb/clients/azbom/Public/Profile.aspx?entID=1634495&licID=419648&licType=1\n",
      "Bernert, Richard A.\n",
      "https://gls.azmd.gov/glsuiteweb/clients/azbom/Public/Profile.aspx?entID=1718331&licID=209637&licType=1\n",
      "Bhattacharjee, Pradip\n",
      "https://gls.azmd.gov/glsuiteweb/clients/azbom/Public/Profile.aspx?entID=1720431&licID=410808&licType=1\n",
      "Bieniek, Radoslaw Filip\n",
      "https://gls.azmd.gov/glsuiteweb/clients/azbom/Public/Profile.aspx?entID=1624811&licID=453088&licType=1\n",
      "Bigler, Carl F.\n",
      "https://gls.azmd.gov/glsuiteweb/clients/azbom/Public/Profile.aspx?entID=1624800&licID=456037&licType=1\n",
      "Bigler, Lane R.\n",
      "https://gls.azmd.gov/glsuiteweb/clients/azbom/Public/Profile.aspx?entID=1616232&licID=221110&licType=1\n",
      "Blakely, F. Adele\n",
      "https://gls.azmd.gov/glsuiteweb/clients/azbom/Public/Profile.aspx?entID=1728574&licID=440061&licType=1\n",
      "Bowen, Anneli Ririe\n",
      "https://gls.azmd.gov/glsuiteweb/clients/azbom/Public/Profile.aspx?entID=1611732&licID=109435&licType=1\n",
      "Bozzo, Paul D.\n",
      "https://gls.azmd.gov/glsuiteweb/clients/azbom/Public/Profile.aspx?entID=1610975&licID=108214&licType=1\n",
      "Brooks, Robert A.\n",
      "https://gls.azmd.gov/glsuiteweb/clients/azbom/Public/Profile.aspx?entID=1725076&licID=413680&licType=1\n",
      "Brouha, Brook L\n",
      "https://gls.azmd.gov/glsuiteweb/clients/azbom/Public/Profile.aspx?entID=1627240&licID=442048&licType=1\n",
      "Bundy, Albert T.\n",
      "https://gls.azmd.gov/glsuiteweb/clients/azbom/Public/Profile.aspx?entID=1747449&licID=383409&licType=1\n",
      "Burford, Holly Northam\n",
      "https://gls.azmd.gov/glsuiteweb/clients/azbom/Public/Profile.aspx?entID=1758755&licID=436254&licType=1\n",
      "Bussian, Anne Hearn\n",
      "https://gls.azmd.gov/glsuiteweb/clients/azbom/Public/Profile.aspx?entID=1710322&licID=423365&licType=1\n",
      "Calame, Antoanella\n",
      "https://gls.azmd.gov/glsuiteweb/clients/azbom/Public/Profile.aspx?entID=1629843&licID=451743&licType=1\n",
      "Cashman, Robert E.\n",
      "https://gls.azmd.gov/glsuiteweb/clients/azbom/Public/Profile.aspx?entID=1612593&licID=429284&licType=1\n",
      "Ceilley, Roger I.\n",
      "https://gls.azmd.gov/glsuiteweb/clients/azbom/Public/Profile.aspx?entID=1626495&licID=467844&licType=1\n",
      "Cockerell, Clay J.\n",
      "https://gls.azmd.gov/glsuiteweb/clients/azbom/Public/Profile.aspx?entID=1640859&licID=425287&licType=1\n",
      "Cohen, Lisa\n",
      "https://gls.azmd.gov/glsuiteweb/clients/azbom/Public/Profile.aspx?entID=1636331&licID=412805&licType=1\n",
      "Conroy, Michael P.\n",
      "https://gls.azmd.gov/glsuiteweb/clients/azbom/Public/Profile.aspx?entID=1628439&licID=467853&licType=1\n",
      "Dahl, Patrick R.\n",
      "https://gls.azmd.gov/glsuiteweb/clients/azbom/Public/Profile.aspx?entID=1626228&licID=127007&licType=1\n",
      "Day, John C.\n",
      "https://gls.azmd.gov/glsuiteweb/clients/azbom/Public/Profile.aspx?entID=1626128&licID=429307&licType=1\n",
      "Dicaudo, David J.\n",
      "https://gls.azmd.gov/glsuiteweb/clients/azbom/Public/Profile.aspx?entID=1623695&licID=414814&licType=1\n",
      "Donahue, Jean-Pierre D.\n"
     ]
    }
   ],
   "source": [
    "scrape()"
   ]
  }
 ],
 "metadata": {
  "kernelspec": {
   "display_name": "Python 3",
   "language": "python",
   "name": "python3"
  },
  "language_info": {
   "codemirror_mode": {
    "name": "ipython",
    "version": 3
   },
   "file_extension": ".py",
   "mimetype": "text/x-python",
   "name": "python",
   "nbconvert_exporter": "python",
   "pygments_lexer": "ipython3",
   "version": "3.7.4"
  }
 },
 "nbformat": 4,
 "nbformat_minor": 4
}
