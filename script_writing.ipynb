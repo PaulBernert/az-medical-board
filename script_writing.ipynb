{
 "cells": [
  {
   "cell_type": "markdown",
   "metadata": {},
   "source": [
    "# Initialize modules / libraries"
   ]
  },
  {
   "cell_type": "code",
   "execution_count": 1,
   "metadata": {},
   "outputs": [],
   "source": [
    "from selenium import webdriver\n",
    "from selenium.webdriver.common.by import By\n",
    "from selenium.webdriver.support.ui import Select\n",
    "import time\n",
    "import pandas as pd"
   ]
  },
  {
   "cell_type": "markdown",
   "metadata": {},
   "source": [
    "## Step One: Go to site and select appropriate field of research"
   ]
  },
  {
   "cell_type": "code",
   "execution_count": 2,
   "metadata": {},
   "outputs": [],
   "source": [
    "driver = webdriver.Firefox()"
   ]
  },
  {
   "cell_type": "code",
   "execution_count": 3,
   "metadata": {},
   "outputs": [],
   "source": [
    "initial_site = \"https://www.azmd.gov/DoctorSearch/DoctorSearch\"\n",
    "driver.get(initial_site)"
   ]
  },
  {
   "cell_type": "code",
   "execution_count": 4,
   "metadata": {},
   "outputs": [],
   "source": [
    "def search_parameter():\n",
    "    driver.switch_to.frame(driver.find_element_by_id(\"Iframe1\"))\n",
    "    select = Select(driver.find_element_by_id('PrimaryField'))\n",
    "    select.select_by_visible_text('Dermatopathology (Dermatology)')\n",
    "    driver.find_element_by_id('btnSpecial').click()"
   ]
  },
  {
   "cell_type": "code",
   "execution_count": 5,
   "metadata": {},
   "outputs": [],
   "source": [
    "search_parameter()"
   ]
  },
  {
   "cell_type": "code",
   "execution_count": 6,
   "metadata": {},
   "outputs": [],
   "source": [
    "time.sleep(5)"
   ]
  },
  {
   "cell_type": "markdown",
   "metadata": {},
   "source": [
    "## Step Two: Collect all hrefs and names (entID, licID and licType)"
   ]
  },
  {
   "cell_type": "code",
   "execution_count": 7,
   "metadata": {},
   "outputs": [],
   "source": [
    "names = []\n",
    "links = []\n",
    "ent_id = []\n",
    "lic_id = []\n",
    "lic_type = []"
   ]
  },
  {
   "cell_type": "code",
   "execution_count": 8,
   "metadata": {},
   "outputs": [],
   "source": [
    "def scrape(names, links, ent_id, lic_id, lic_type):\n",
    "    name_path = ['/html/body/div/div[2]/form/div[3]/table/tbody/tr[2]/td/table/tbody/tr['+str(i)+']/td[2]' for i in range(1,31)]\n",
    "    link_path = ['/html/body/div/div[2]/form/div[3]/table/tbody/tr[2]/td/table/tbody/tr['+str(i)+']/td[1]/a' for i in range(1,31)]\n",
    "    \n",
    "    for i in range(len(link_path)):\n",
    "        links.append(driver.find_element_by_xpath(link_path[i]).get_attribute('href'))\n",
    "        names.append(driver.find_element_by_xpath(name_path[i]).text)\n",
    "        ent_id.append([links[i].split(\"=\")[1].split(\"&\")[0]])\n",
    "        lic_id.append([links[i].split(\"=\")[2].split(\"&\")[0]])\n",
    "        lic_type.append([links[i].split(\"=\")[3]])"
   ]
  },
  {
   "cell_type": "code",
   "execution_count": 9,
   "metadata": {},
   "outputs": [],
   "source": [
    "scrape(names, links, ent_id, lic_id, lic_type)"
   ]
  },
  {
   "cell_type": "code",
   "execution_count": 10,
   "metadata": {},
   "outputs": [
    {
     "name": "stdout",
     "output_type": "stream",
     "text": [
      "Name: Abrishami, Payam\n",
      "URL: https://gls.azmd.gov/glsuiteweb/clients/azbom/Public/Profile.aspx?entID=1641473&licID=446491&licType=1\n",
      "Entry ID: 1641473\n",
      "License ID: 446491\n",
      "License Type: 1\n"
     ]
    }
   ],
   "source": [
    "print(f\"Name: {names[0]}\")\n",
    "print(f\"URL: {links[0]}\")\n",
    "print(f\"Entry ID: {ent_id[0][0]}\")\n",
    "print(f\"License ID: {lic_id[0][0]}\")\n",
    "print(f\"License Type: {lic_type[0][0]}\")"
   ]
  },
  {
   "cell_type": "code",
   "execution_count": null,
   "metadata": {},
   "outputs": [],
   "source": []
  }
 ],
 "metadata": {
  "kernelspec": {
   "display_name": "Python 3",
   "language": "python",
   "name": "python3"
  },
  "language_info": {
   "codemirror_mode": {
    "name": "ipython",
    "version": 3
   },
   "file_extension": ".py",
   "mimetype": "text/x-python",
   "name": "python",
   "nbconvert_exporter": "python",
   "pygments_lexer": "ipython3",
   "version": "3.7.4"
  }
 },
 "nbformat": 4,
 "nbformat_minor": 4
}
